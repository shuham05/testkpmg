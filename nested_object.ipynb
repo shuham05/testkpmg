def get_value_from_nested_object(nested_object, keys):
    keys = keys.split("/") 
    current = nested_object
    for key in keys:
        if key in current:
            current = current [key]
        else:
            return None
    return current
    
nested_object = {'x':{'y':{'z':'a'}}}
keys = 'x/y/z'
result = get_value_from_nested_object(nested_object, keys)
print(result)